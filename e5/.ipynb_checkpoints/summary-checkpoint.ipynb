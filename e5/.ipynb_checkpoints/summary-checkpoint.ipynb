{
 "cells": [
  {
   "cell_type": "code",
   "execution_count": 1,
   "metadata": {},
   "outputs": [],
   "source": [
    "import pandas as pd\n",
    "from scipy import stats"
   ]
  },
  {
   "cell_type": "code",
   "execution_count": 2,
   "metadata": {},
   "outputs": [],
   "source": [
    "data1 = pd.read_csv('data-1.csv')\n",
    "data2 = pd.read_csv('data-2.csv')\n",
    "data3 = pd.read_csv('data-3.csv')\n",
    "data4 = pd.read_csv('data-4.csv')\n",
    "data5 = pd.read_csv('data-5.csv')\n",
    "data6 = pd.read_csv('data-6.csv')"
   ]
  },
  {
   "cell_type": "code",
   "execution_count": 3,
   "metadata": {},
   "outputs": [],
   "source": [
    "# data_list = [data1,data2,data3,data4,data5,data6]\n",
    "# data = pd.DataFrame([data1,data2,data3,data4,data5,data6])"
   ]
  },
  {
   "cell_type": "code",
   "execution_count": null,
   "metadata": {},
   "outputs": [],
   "source": []
  },
  {
   "cell_type": "code",
   "execution_count": 4,
   "metadata": {},
   "outputs": [],
   "source": [
    "meanx1 = data1['x'].mean()\n",
    "meany1 = data1['y'].mean()\n",
    "\n",
    "meanx2 = data2['x'].mean()\n",
    "meany2 = data2['y'].mean()\n",
    "\n",
    "meanx3 = data3['x'].mean()\n",
    "meany3 = data3['y'].mean()\n",
    "\n",
    "meanx4 = data4['x'].mean()\n",
    "meany4 = data4['y'].mean()\n",
    "\n",
    "meanx5 = data5['x'].mean()\n",
    "meany5 = data5['y'].mean()\n",
    "\n",
    "meanx6 = data6['x'].mean()\n",
    "meany6 = data6['y'].mean()"
   ]
  },
  {
   "cell_type": "code",
   "execution_count": 5,
   "metadata": {},
   "outputs": [],
   "source": [
    "stdx1 = data1['x'].std()\n",
    "stdy1 = data1['y'].std()\n",
    "\n",
    "stdx2 = data2['x'].std()\n",
    "stdy2 = data2['y'].std()\n",
    "\n",
    "stdx3 = data3['x'].std()\n",
    "stdy3 = data3['y'].std()\n",
    "\n",
    "stdx4 = data4['x'].std()\n",
    "stdy4 = data4['y'].std()\n",
    "\n",
    "stdx5 = data5['x'].std()\n",
    "stdy5 = data5['y'].std()\n",
    "\n",
    "stdx6 = data6['x'].std()\n",
    "stdy6 = data6['y'].std()"
   ]
  },
  {
   "cell_type": "code",
   "execution_count": 17,
   "metadata": {
    "scrolled": true
   },
   "outputs": [],
   "source": [
    "def get_stats(data):\n",
    "    df = pd.DataFrame();\n",
    "    \n",
    "    # mean of values\n",
    "    meanx = data['x'].mean();\n",
    "    meany = data['y'].mean();\n",
    "    \n",
    "    df['meanx'] = meanx;\n",
    "    df['meany'] = meany;\n",
    "    print(df)\n",
    "    # standard deviations\n",
    "    stdx = data['x'].std();\n",
    "    stdy = data['y'].std();\n",
    "    \n",
    "    df['stdx'] = stdx;\n",
    "    df['stdy'] = stdy;\n",
    "    \n",
    "    # range\n",
    "    rangex = data['x'].max() - data['x'].min();\n",
    "    rangey = data['y'].max() - data['y'].min();\n",
    "    \n",
    "    df['rangex'] = rangex;\n",
    "    df['rangey'] = rangey;\n",
    "    \n",
    "    # correlation\n",
    "    corr1 = stats.linregress(data1['x'],data1['y']).rvalue;\n",
    "    corr2 = stats.linregress(data2['x'],data2['y']).rvalue;\n",
    "    \n",
    "    df['corr1'] = corr1;\n",
    "    df['corr2'] = corr2;\n",
    "    \n",
    "    return df"
   ]
  },
  {
   "cell_type": "code",
   "execution_count": 18,
   "metadata": {},
   "outputs": [
    {
     "name": "stdout",
     "output_type": "stream",
     "text": [
      "            x          y\n",
      "0   29.168628  26.350615\n",
      "1   12.801887  11.705425\n",
      "2   19.744856  15.331458\n",
      "3   34.890718  27.384153\n",
      "4   30.410696  20.859101\n",
      "5   -3.727335  10.023575\n",
      "6   19.401061  16.873293\n",
      "7    6.183714   9.596947\n",
      "8    6.761374  15.226571\n",
      "9   12.927182  17.424621\n",
      "10   9.728523  16.599379\n",
      "11  25.451282  22.537730\n",
      "12  17.132453  14.843775\n",
      "13   9.460100  16.550180\n",
      "14  13.326359  14.127173\n",
      "15  12.004092  15.606959\n",
      "16  25.928949  22.858978\n",
      "17   5.538101  10.459030\n",
      "18  11.756812  15.106565\n",
      "19  -2.249149   8.719839\n",
      "20 -22.635878  -2.565088\n",
      "21  15.843423  13.722910\n",
      "22  18.373234  17.783094\n",
      "23  -0.905980  10.199782\n",
      "24  35.237055  24.229392\n",
      "25  -9.452388   2.974537\n",
      "26   8.549102  11.404244\n",
      "27   5.753794  14.575424\n",
      "28  26.393351  22.541265\n",
      "29  25.632305  21.631076\n",
      "..        ...        ...\n",
      "70  16.749087  18.216261\n",
      "71   9.547795  13.411353\n",
      "72  21.672808  20.550065\n",
      "73  -6.817910   3.288994\n",
      "74  12.828100  12.345564\n",
      "75  -0.217721   9.254328\n",
      "76  -2.449566   5.168398\n",
      "77   1.053804   7.147802\n",
      "78   4.261370   9.219620\n",
      "79   8.673984  12.371950\n",
      "80  -5.981798   4.301113\n",
      "81  18.809918  14.655056\n",
      "82  13.587949  13.506738\n",
      "83 -10.434924  -1.664268\n",
      "84  25.859026  22.179976\n",
      "85  30.750670  20.171220\n",
      "86  22.145355  16.863911\n",
      "87   5.840902  11.024781\n",
      "88  -4.849031   4.096358\n",
      "89  20.653421  21.412740\n",
      "90   3.161877   6.995224\n",
      "91  22.669341  19.868772\n",
      "92  10.499300  13.171084\n",
      "93  19.719668  15.523647\n",
      "94  12.276397  15.184752\n",
      "95  16.478878  15.896346\n",
      "96   8.126000  13.606581\n",
      "97  29.430446  24.362231\n",
      "98   9.522945  17.087944\n",
      "99  12.823872  17.084992\n",
      "\n",
      "[100 rows x 2 columns]\n",
      "Empty DataFrame\n",
      "Columns: [meanx, meany]\n",
      "Index: []\n"
     ]
    }
   ],
   "source": [
    "df = get_stats(data1)"
   ]
  },
  {
   "cell_type": "code",
   "execution_count": 16,
   "metadata": {},
   "outputs": [
    {
     "data": {
      "text/html": [
       "<div>\n",
       "<style scoped>\n",
       "    .dataframe tbody tr th:only-of-type {\n",
       "        vertical-align: middle;\n",
       "    }\n",
       "\n",
       "    .dataframe tbody tr th {\n",
       "        vertical-align: top;\n",
       "    }\n",
       "\n",
       "    .dataframe thead th {\n",
       "        text-align: right;\n",
       "    }\n",
       "</style>\n",
       "<table border=\"1\" class=\"dataframe\">\n",
       "  <thead>\n",
       "    <tr style=\"text-align: right;\">\n",
       "      <th></th>\n",
       "      <th>meanx</th>\n",
       "      <th>meany</th>\n",
       "      <th>stdx</th>\n",
       "      <th>stdy</th>\n",
       "      <th>rangex</th>\n",
       "      <th>rangey</th>\n",
       "      <th>corr1</th>\n",
       "      <th>corr2</th>\n",
       "    </tr>\n",
       "  </thead>\n",
       "  <tbody>\n",
       "  </tbody>\n",
       "</table>\n",
       "</div>"
      ],
      "text/plain": [
       "Empty DataFrame\n",
       "Columns: [meanx, meany, stdx, stdy, rangex, rangey, corr1, corr2]\n",
       "Index: []"
      ]
     },
     "execution_count": 16,
     "metadata": {},
     "output_type": "execute_result"
    }
   ],
   "source": [
    "df"
   ]
  },
  {
   "cell_type": "code",
   "execution_count": null,
   "metadata": {},
   "outputs": [],
   "source": []
  },
  {
   "cell_type": "code",
   "execution_count": null,
   "metadata": {},
   "outputs": [],
   "source": []
  }
 ],
 "metadata": {
  "kernelspec": {
   "display_name": "Python 3",
   "language": "python",
   "name": "python3"
  },
  "language_info": {
   "codemirror_mode": {
    "name": "ipython",
    "version": 3
   },
   "file_extension": ".py",
   "mimetype": "text/x-python",
   "name": "python",
   "nbconvert_exporter": "python",
   "pygments_lexer": "ipython3",
   "version": "3.7.3"
  }
 },
 "nbformat": 4,
 "nbformat_minor": 2
}
