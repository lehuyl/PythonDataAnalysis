{
 "cells": [
  {
   "cell_type": "code",
   "execution_count": 1,
   "metadata": {},
   "outputs": [],
   "source": [
    "import pandas as pd\n",
    "from scipy import stats"
   ]
  },
  {
   "cell_type": "code",
   "execution_count": 2,
   "metadata": {},
   "outputs": [],
   "source": [
    "data1 = pd.read_csv('data-1.csv')\n",
    "data2 = pd.read_csv('data-2.csv')\n",
    "data3 = pd.read_csv('data-3.csv')\n",
    "data4 = pd.read_csv('data-4.csv')\n",
    "data5 = pd.read_csv('data-5.csv')\n",
    "data6 = pd.read_csv('data-6.csv')"
   ]
  },
  {
   "cell_type": "code",
   "execution_count": 3,
   "metadata": {},
   "outputs": [],
   "source": []
  },
  {
   "cell_type": "code",
   "execution_count": null,
   "metadata": {},
   "outputs": [],
   "source": []
  },
  {
   "cell_type": "code",
   "execution_count": 4,
   "metadata": {},
   "outputs": [],
   "source": [
    "meanx1 = data1['x'].mean()\n",
    "meany1 = data1['y'].mean()\n",
    "\n",
    "meanx2 = data2['x'].mean()\n",
    "meany2 = data2['y'].mean()\n",
    "\n",
    "meanx3 = data3['x'].mean()\n",
    "meany3 = data3['y'].mean()\n",
    "\n",
    "meanx4 = data4['x'].mean()\n",
    "meany4 = data4['y'].mean()\n",
    "\n",
    "meanx5 = data5['x'].mean()\n",
    "meany5 = data5['y'].mean()\n",
    "\n",
    "meanx6 = data6['x'].mean()\n",
    "meany6 = data6['y'].mean()"
   ]
  },
  {
   "cell_type": "code",
   "execution_count": 5,
   "metadata": {},
   "outputs": [],
   "source": [
    "stdx1 = data1['x'].std()\n",
    "stdy1 = data1['y'].std()\n",
    "\n",
    "stdx2 = data2['x'].std()\n",
    "stdy2 = data2['y'].std()\n",
    "\n",
    "stdx3 = data3['x'].std()\n",
    "stdy3 = data3['y'].std()\n",
    "\n",
    "stdx4 = data4['x'].std()\n",
    "stdy4 = data4['y'].std()\n",
    "\n",
    "stdx5 = data5['x'].std()\n",
    "stdy5 = data5['y'].std()\n",
    "\n",
    "stdx6 = data6['x'].std()\n",
    "stdy6 = data6['y'].std()"
   ]
  },
  {
   "cell_type": "code",
   "execution_count": 16,
   "metadata": {
    "scrolled": true
   },
   "outputs": [],
   "source": [
    "def get_stats(data):\n",
    "    df = pd.DataFrame();\n",
    "    \n",
    "    # mean of values\n",
    "    meanx = data['x'].mean();\n",
    "    meany = data['y'].mean();\n",
    "    \n",
    "    df['meanx'] = [meanx];\n",
    "    df['meany'] = [meany];\n",
    "    \n",
    "    \n",
    "    # standard deviations\n",
    "    stdx = data['x'].std();\n",
    "    stdy = data['y'].std();\n",
    "    \n",
    "    df['stdx'] = [stdx];\n",
    "    df['stdy'] = [stdy];\n",
    "    \n",
    "    # range\n",
    "    rangex = data['x'].max() - data['x'].min();\n",
    "    rangey = data['y'].max() - data['y'].min();\n",
    "    \n",
    "    df['rangex'] = [rangex];\n",
    "    df['rangey'] = [rangey];\n",
    "    \n",
    "    # correlation\n",
    "    corr = stats.linregress(data['x'],data['y']).rvalue;\n",
    "    \n",
    "    df['corr'] = [corr];\n",
    "    \n",
    "    return df"
   ]
  },
  {
   "cell_type": "code",
   "execution_count": 17,
   "metadata": {},
   "outputs": [],
   "source": [
    "df1 = get_stats(data1)\n",
    "df2 = get_stats(data2)\n",
    "df3 = get_stats(data3)\n",
    "df4 = get_stats(data4)\n",
    "df5 = get_stats(data5)\n",
    "df6 = get_stats(data6)"
   ]
  },
  {
   "cell_type": "code",
   "execution_count": 23,
   "metadata": {},
   "outputs": [
    {
     "data": {
      "text/html": [
       "<div>\n",
       "<style scoped>\n",
       "    .dataframe tbody tr th:only-of-type {\n",
       "        vertical-align: middle;\n",
       "    }\n",
       "\n",
       "    .dataframe tbody tr th {\n",
       "        vertical-align: top;\n",
       "    }\n",
       "\n",
       "    .dataframe thead th {\n",
       "        text-align: right;\n",
       "    }\n",
       "</style>\n",
       "<table border=\"1\" class=\"dataframe\">\n",
       "  <thead>\n",
       "    <tr style=\"text-align: right;\">\n",
       "      <th></th>\n",
       "      <th>meanx</th>\n",
       "      <th>meany</th>\n",
       "      <th>stdx</th>\n",
       "      <th>stdy</th>\n",
       "      <th>rangex</th>\n",
       "      <th>rangey</th>\n",
       "      <th>corr</th>\n",
       "    </tr>\n",
       "  </thead>\n",
       "  <tbody>\n",
       "    <tr>\n",
       "      <th>0</th>\n",
       "      <td>7.216155</td>\n",
       "      <td>7.602215</td>\n",
       "      <td>11.921599</td>\n",
       "      <td>11.764382</td>\n",
       "      <td>59.73596</td>\n",
       "      <td>59.036231</td>\n",
       "      <td>0.935069</td>\n",
       "    </tr>\n",
       "  </tbody>\n",
       "</table>\n",
       "</div>"
      ],
      "text/plain": [
       "      meanx     meany       stdx       stdy    rangex     rangey      corr\n",
       "0  7.216155  7.602215  11.921599  11.764382  59.73596  59.036231  0.935069"
      ]
     },
     "execution_count": 23,
     "metadata": {},
     "output_type": "execute_result"
    }
   ],
   "source": [
    "df6"
   ]
  },
  {
   "cell_type": "code",
   "execution_count": null,
   "metadata": {},
   "outputs": [],
   "source": []
  },
  {
   "cell_type": "code",
   "execution_count": null,
   "metadata": {},
   "outputs": [],
   "source": []
  }
 ],
 "metadata": {
  "kernelspec": {
   "display_name": "Python 3",
   "language": "python",
   "name": "python3"
  },
  "language_info": {
   "codemirror_mode": {
    "name": "ipython",
    "version": 3
   },
   "file_extension": ".py",
   "mimetype": "text/x-python",
   "name": "python",
   "nbconvert_exporter": "python",
   "pygments_lexer": "ipython3",
   "version": "3.7.3"
  }
 },
 "nbformat": 4,
 "nbformat_minor": 2
}
